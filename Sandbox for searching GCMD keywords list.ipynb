{
 "cells": [
  {
   "cell_type": "markdown",
   "metadata": {},
   "source": [
    "### Import needed packages"
   ]
  },
  {
   "cell_type": "code",
   "execution_count": 1,
   "metadata": {},
   "outputs": [],
   "source": [
    "from rdflib import Graph\n",
    "from nltk.corpus import wordnet\n",
    "import pandas as pd\n",
    "#import numpy as np"
   ]
  },
  {
   "cell_type": "markdown",
   "metadata": {},
   "source": [
    "### Utilities for interacting with GCMD keywords graph"
   ]
  },
  {
   "cell_type": "code",
   "execution_count": 5,
   "metadata": {},
   "outputs": [],
   "source": [
    "# load the GCMD keywords graph\n",
    "def load_gcmd():\n",
    "    g = Graph()\n",
    "    g.parse(\"gcmd_keywords.rdf\", format=\"application/rdf+xml\")\n",
    "    return g\n",
    "\n",
    "# query graph to search for term in skos:prefLabel\n",
    "# return list of terms as strings (should change to return by id)\n",
    "def simple_label_query(g,term):\n",
    "    qres = g.query(\n",
    "    \"\"\"SELECT DISTINCT (str(?label) as ?strlabel)\n",
    "       WHERE {{\n",
    "          ?name skos:prefLabel ?label .\n",
    "          FILTER regex(?label,\"(?i){}\") .\n",
    "       }}\"\"\".format(term))\n",
    "    return [str(label[0]) for label in qres]\n",
    "\n",
    "# query graph to search for term in skos:definition\n",
    "# return list of terms as strings (should change to return by id)\n",
    "def simple_definition_query(g,term):\n",
    "    qres = g.query(\n",
    "    \"\"\"SELECT DISTINCT (str(?label) as ?strlabel)\n",
    "       WHERE {{\n",
    "          ?name skos:definition ?definition .\n",
    "          ?name skos:prefLabel ?label\n",
    "          FILTER regex(?definition,\"(?i){}\") .\n",
    "       }}\"\"\".format(term))\n",
    "    return [str(label[0]) for label in qres]\n"
   ]
  },
  {
   "cell_type": "markdown",
   "metadata": {},
   "source": [
    "### Utilities for constructing a phrase search\n",
    "\n",
    "Simple, first-pass search algorithm to implement:\n",
    " 1. take synonyms of all search terms (WordNet--use Wiktionary later)\n",
    " 2. search for search terms individually in\n",
    "     1. the prefLabel\n",
    "     2. the definition\n",
    " 3. ranking algorithm:\n",
    "       - 1 point for each search term found in prefLabel\n",
    "       - .3 point for each search term found in definition\n",
    "       - .2 point for each synonym group term found in prefLabel\n",
    "       - .1 point for each synonym group term found in definition"
   ]
  },
  {
   "cell_type": "code",
   "execution_count": 11,
   "metadata": {},
   "outputs": [],
   "source": [
    "# simple phrase tokenizer\n",
    "def tokenize_phrase(phrase):\n",
    "    return phrase.strip().lower().replace('-',' ').split()\n",
    "\n",
    "# access synonyms via WordNet\n",
    "# returns a list of strings\n",
    "def get_synonyms(term):\n",
    "    synonyms = []\n",
    "    ss = wordnet.synsets(term)\n",
    "    for s in ss:\n",
    "        for l in s.lemmas():\n",
    "            syn = l.name()\n",
    "            if not syn in synonyms and (syn != term):\n",
    "                synonyms.append(syn)\n",
    "    return synonyms\n",
    "\n",
    "# search algorithm, as outlined above\n",
    "def search(g,phrase):\n",
    "    print('Searching for phrase ... ')\n",
    "    terms = tokenize_phrase(phrase)\n",
    "    \n",
    "    results = pd.DataFrame(columns = ['rank'])\n",
    "    for term in terms:\n",
    "    \n",
    "        # search for exact term in label and in definition (nothing fancy here)\n",
    "        label_matches = simple_label_query(g,term)\n",
    "        #print(len(label_matches), len(np.unique(label_matches)))\n",
    "        definition_matches = simple_definition_query(g,term)\n",
    "        new_matches = [label for label in definition_matches if not label in label_matches]\n",
    "        for label in label_matches:\n",
    "            if label in results.index:\n",
    "                results.loc[label,'rank'] += 1 \n",
    "            else:\n",
    "                results.loc[label,'rank'] = 1\n",
    "        for label in new_matches:\n",
    "            if label in results.index:\n",
    "                results.loc[label,'rank'] += 0.3 \n",
    "            else:\n",
    "                results.loc[label,'rank'] = 0.3\n",
    "        \n",
    "        # search for synonyms for this term in label and in definition (nothing fancy here)\n",
    "        # no multiple counting\n",
    "        results['syn'] = False\n",
    "        term_synonyms = get_synonyms(term)\n",
    "        for syn in term_synonyms:\n",
    "            label_matches = simple_label_query(g,syn)\n",
    "            definition_matches = simple_definition_query(g,syn)\n",
    "            new_matches = [label for label in definition_matches if not label in label_matches]\n",
    "            for label in label_matches:\n",
    "                if label in results.index and not results.loc[label,'syn']:\n",
    "                    results.loc[label,'rank'] += .2\n",
    "                elif not label in results.index:\n",
    "                    results.loc[label,'rank'] = .2\n",
    "                results.loc[label,'syn'] = True\n",
    "            for label in new_matches:\n",
    "                if label in results.index and not results.loc[label,'syn']:\n",
    "                    results.loc[label,'rank'] += 0.1 \n",
    "                elif not label in results.index:\n",
    "                    results.loc[label,'rank'] = 0.1\n",
    "                results.loc[label,'syn'] = True\n",
    "    \n",
    "    results = results.sort_values(by='rank',ascending=False)\n",
    "    \n",
    "    # print matches with rank >= 0.5\n",
    "    print('The top search results for {} are:'.format(phrase))\n",
    "    top_results = results.loc[results['rank']>=0.5]\n",
    "    for index, row in top_results.iterrows():\n",
    "        print('{}, {}'.format(index,row['rank']))"
   ]
  },
  {
   "cell_type": "markdown",
   "metadata": {},
   "source": [
    "### Play around with results."
   ]
  },
  {
   "cell_type": "code",
   "execution_count": 7,
   "metadata": {},
   "outputs": [],
   "source": [
    "g = load_gcmd()"
   ]
  },
  {
   "cell_type": "code",
   "execution_count": 12,
   "metadata": {},
   "outputs": [
    {
     "name": "stdout",
     "output_type": "stream",
     "text": [
      "Searching for phrase ... \n",
      "The top search results for dew point temperature are:\n",
      "DEW POINT TEMPERATURE, 3.0\n",
      "DEW POINT DEPRESSION, 2.4\n",
      "DEWPOINT DEPRESSION, 2.4\n",
      "TEMPERATURE TENDENCY, 1.4\n",
      "LAND SURFACE TEMPERATURE, 1.3\n",
      "TEMPERATURE-HUMIDITY INDEX, 1.1\n",
      "UPPER AIR TEMPERATURE, 1.1\n",
      "TEMPERATURE GRADIENT, 1.1\n",
      "ATMOSPHERIC TEMPERATURE, 1.1\n",
      "TEMPERATURE ANOMALIES, 1.1\n",
      "SEA SURFACE SUBSKIN TEMPERATURE, 1.1\n",
      "SKIN TEMPERATURE, 1.1\n",
      "AIR TEMPERATURE, 1.1\n",
      "RESIDENTIAL ENERGY DEMAND TEMPERATURE INDEX, 1.1\n",
      "24 HOUR MAXIMUM TEMPERATURE, 1.1\n",
      "24 HOUR MINIMUM TEMPERATURE, 1.1\n",
      "BRIGHTNESS TEMPERATURE, 1.1\n",
      "SOIL TEMPERATURE, 1.1\n",
      "6 HOUR MAXIMUM TEMPERATURE, 1.1\n",
      "SEA SURFACE FOUNDATION TEMPERATURE, 1.1\n",
      "6 HOUR MINIMUM TEMPERATURE, 1.1\n",
      "SEA SURFACE TEMPERATURE, 1.0\n",
      "AIR TEMPERATURE RECONSTRUCTION, 1.0\n",
      "TEMPERATURE GRADIENT RATE, 1.0\n",
      "PARTICLE TEMPERATURE, 1.0\n",
      "CLOUD BASE TEMPERATURE, 1.0\n",
      "ANTENNA TEMPERATURE, 1.0\n",
      "CLOUD MIDLAYER TEMPERATURE, 1.0\n",
      "TOTAL TEMPERATURE, 1.0\n",
      "SINK TEMPERATURE, 1.0\n",
      "HIGHER MINIMUM NIGHTTIME TEMPERATURES, 1.0\n",
      "CLOUD TOP TEMPERATURE, 1.0\n",
      "TEMPERATURE INDICATORS, 1.0\n",
      "POTENTIAL TEMPERATURE, 1.0\n",
      "OCEAN TEMPERATURE, 1.0\n",
      "MAXIMUM/MINIMUM TEMPERATURE, 1.0\n",
      "POINT BAR, 1.0\n",
      "SEA SURFACE TEMPERATURE ANOMALY, 1.0\n",
      "TEMPERATURE VARIABILITY, 1.0\n",
      "AMBIENT TEMPERATURE, 1.0\n",
      "ICE TEMPERATURE, 1.0\n",
      "STRATOSPHERIC TEMPERATURE ANOMALIES, 1.0\n",
      "STATIC TEMPERATURE, 1.0\n",
      "SEA SURFACE SKIN TEMPERATURE, 1.0\n",
      "SEA SURFACE TEMPERATURE INDICES, 1.0\n",
      "ULTRAVIOLET SENSOR TEMPERATURE, 1.0\n",
      "HIGHER MAXIMUM DAYTIME TEMPERATURES, 1.0\n",
      "GEOTHERMAL TEMPERATURE, 1.0\n",
      "PERMAFROST TEMPERATURE, 1.0\n",
      "TEMPERATURE CONCENTRATION INDEX, 1.0\n",
      "TEMPERATURE PROFILES, 1.0\n",
      "TROPOSPHERIC TEMPERATURE ANOMALIES, 1.0\n",
      "BOUNDARY LAYER TEMPERATURE, 1.0\n",
      "DOME TEMPERATURE, 1.0\n",
      "TEMPERATURE TRENDS, 1.0\n",
      "TEMPERATURE INDICES, 1.0\n",
      "CANOPY TEMPERATURE VARIABILITY, 1.0\n",
      "TEMPERATURE CONCENTRATION INDEX (TCI), 1.0\n",
      "SURFACE TEMPERATURE, 1.0\n",
      "VIRTUAL TEMPERATURE, 1.0\n",
      "ATMOSPHERIC TEMPERATURE INDICES, 1.0\n",
      "SNOW/ICE TEMPERATURE, 1.0\n",
      "WATER TEMPERATURE, 1.0\n",
      "SEA SURFACE TEMPERATURE RECONSTRUCTION, 1.0\n",
      "DEICED TEMPERATURE, 1.0\n",
      "FRONTAL FOG, 0.8999999999999999\n",
      "RADIATION FOG, 0.8999999999999999\n",
      "POLAR STRATOSPHERIC CLOUDS/NACREOUS, 0.7\n",
      "FREEZING INDEX, 0.7\n",
      "THAWING INDEX, 0.7\n",
      "ATLANTIC MERIDIONAL MODE, 0.7\n",
      "UPSLOPE FOG, 0.6\n",
      "ADVECTION FOG, 0.6\n",
      "SNOW MELT, 0.6\n",
      "GROWING DEGREE DAYS, 0.5\n",
      "HEATING DEGREE DAYS, 0.5\n",
      "COOLING DEGREE DAYS, 0.5\n",
      "FREEZE FREE PERIOD LENGTH, 0.5\n",
      "SEA LEVEL PRESSURE, 0.5\n",
      "WAVE PERIOD, 0.5\n"
     ]
    }
   ],
   "source": [
    "phrase = 'dew point temperature'\n",
    "search(g,phrase)"
   ]
  },
  {
   "cell_type": "code",
   "execution_count": 13,
   "metadata": {},
   "outputs": [
    {
     "name": "stdout",
     "output_type": "stream",
     "text": [
      "Searching for phrase ... \n",
      "The top search results for relative humidity are:\n",
      "RELATIVE HUMIDITY, 2.0\n",
      "STORM RELATIVE WINDS, 1.0\n",
      "SPECIFIC HUMIDITY, 1.0\n",
      "TEMPERATURE-HUMIDITY INDEX, 1.0\n",
      "HUMIDITY, 1.0\n",
      "HUMIDITY MIXING RATIO, 1.0\n",
      "HUMIDITY INDICES, 1.0\n",
      "HUMIDITY INDEX, 1.0\n",
      "ABSOLUTE HUMIDITY, 1.0\n",
      "SATURATION SPECIFIC HUMIDITY, 1.0\n",
      "SUPERSATURATION, 0.6\n",
      "DROUGHT, 0.6\n",
      "FIRE WEATHER INDEX, 0.6\n",
      "HEAT INDEX, 0.6\n"
     ]
    }
   ],
   "source": [
    "phrase = 'relative humidity'\n",
    "search(g,phrase)"
   ]
  },
  {
   "cell_type": "code",
   "execution_count": 14,
   "metadata": {},
   "outputs": [
    {
     "name": "stdout",
     "output_type": "stream",
     "text": [
      "Searching for phrase ... \n",
      "The top search results for airspeed are:\n",
      "AIRSPEED/GROUND SPEED, 1.0\n"
     ]
    }
   ],
   "source": [
    "phrase = 'airspeed'\n",
    "search(g,phrase)"
   ]
  },
  {
   "cell_type": "code",
   "execution_count": 15,
   "metadata": {},
   "outputs": [
    {
     "name": "stdout",
     "output_type": "stream",
     "text": [
      "Searching for phrase ... \n",
      "The top search results for precipitation are:\n",
      "EXTREME PRECIPITATION, 1.0\n",
      "PRECIPITATION PROFILES, 1.0\n",
      "PRECIPITATION TRENDS, 1.0\n",
      "PRECIPITATION VARIABILITY, 1.0\n",
      "PRECIPITATION, 1.0\n",
      "CENTRAL INDIAN PRECIPITATION INDEX, 1.0\n",
      "12 HOUR PRECIPITATION AMOUNT, 1.0\n",
      "24 HOUR PRECIPITATION AMOUNT, 1.0\n",
      "HOURLY PRECIPITATION AMOUNT, 1.0\n",
      "ATMOSPHERIC PRECIPITATION INDICES, 1.0\n",
      "PRECIPITATION RATE, 1.0\n",
      "STANDARDIZED PRECIPITATION INDEX, 1.0\n",
      "PRECIPITATION ANOMALIES, 1.0\n",
      "PRECIPITATION INDICATORS, 1.0\n",
      "TOTAL SURFACE PRECIPITATION RATE, 1.0\n",
      "SOLID PRECIPITATION, 1.0\n",
      "LIQUID PRECIPITATION, 1.0\n",
      "LIQUID SURFACE PRECIPITATION RATE, 1.0\n",
      "PRECIPITATION INDICES, 1.0\n",
      "WEIGHTED ANOMALY STANDARDIZED PRECIPITATION INDEX, 1.0\n",
      "ACCUMULATIVE CONVECTIVE PRECIPITATION, 1.0\n",
      "ENSO PRECIPITATION INDEX, 1.0\n",
      "CONVECTIVE SURFACE PRECIPITATION RATE, 1.0\n",
      "DROUGHT/PRECIPITATION RECONSTRUCTION, 1.0\n",
      "PRECIPITATION AMOUNT, 1.0\n",
      "3 AND 6 HOUR PRECIPITATION AMOUNT, 1.0\n"
     ]
    }
   ],
   "source": [
    "phrase = 'precipitation'\n",
    "search(g,phrase)"
   ]
  },
  {
   "cell_type": "code",
   "execution_count": 16,
   "metadata": {},
   "outputs": [
    {
     "name": "stdout",
     "output_type": "stream",
     "text": [
      "Searching for phrase ... \n",
      "The top search results for ground velocity are:\n",
      "AIRSPEED/GROUND SPEED, 1.6\n",
      "HORIZONTAL WIND VELOCITY/SPEED, 1.2\n",
      "WIND VELOCITY/SPEED PROFILES, 1.2\n",
      "VERTICAL WIND VELOCITY/SPEED, 1.2\n",
      "VELOCITY AZIMUTH DISPLAY VERTICAL WIND PROFILES, 1.1\n",
      "ORBIT VELOCITY, 1.1\n",
      "ACOUSTIC VELOCITY, 1.1\n",
      "VELOCITY, 1.1\n",
      "GROUND WATER FEATURES, 1.1\n",
      "FLOW VELOCITY, 1.1\n",
      "BACKGROUND INFORMATION, 1.1\n",
      "GROUND WATER RECONSTRUCTION, 1.1\n",
      "FROZEN GROUND, 1.1\n",
      "GROUND ICE, 1.1\n",
      "GROUNDWATER CHEMISTRY, 1.0\n",
      "ICE VELOCITY, 1.0\n",
      "MEAN RADIAL VELOCITY, 1.0\n",
      "LINE OF SIGHT VELOCITY, 1.0\n",
      "SOLAR VELOCITY FIELDS, 1.0\n",
      "GROUND WATER, 1.0\n",
      "GROUNDWATER MANAGEMENT, 1.0\n",
      "DOPPLER VELOCITY, 1.0\n",
      "SEASONALLY FROZEN GROUND, 1.0\n",
      "GROUND WATER PROCESSES/MEASUREMENTS, 1.0\n",
      "CORONAL MASS EJECTION, 0.5\n",
      "KARST LANDFORMS, 0.5\n",
      "TSUNAMIS, 0.5\n",
      "ESTUARINE WETLANDS, 0.5\n",
      "KARST LANDSCAPE, 0.5\n",
      "LAND SURFACE TEMPERATURE, 0.5\n",
      "LAND SUBSIDENCE, 0.5\n",
      "WIND SPEED, 0.5\n",
      "BASE FLOW, 0.5\n"
     ]
    }
   ],
   "source": [
    "phrase = 'ground velocity'\n",
    "search(g,phrase)"
   ]
  },
  {
   "cell_type": "code",
   "execution_count": 17,
   "metadata": {},
   "outputs": [
    {
     "name": "stdout",
     "output_type": "stream",
     "text": [
      "Searching for phrase ... \n",
      "The top search results for elastic deformation are:\n",
      "ICE DEFORMATION, 1\n",
      "OCEAN CRUST DEFORMATION, 1\n"
     ]
    }
   ],
   "source": [
    "phrase = 'elastic deformation'\n",
    "search(g,phrase)"
   ]
  },
  {
   "cell_type": "code",
   "execution_count": null,
   "metadata": {},
   "outputs": [],
   "source": []
  }
 ],
 "metadata": {
  "kernelspec": {
   "display_name": "Python 3",
   "language": "python",
   "name": "python3"
  },
  "language_info": {
   "codemirror_mode": {
    "name": "ipython",
    "version": 3
   },
   "file_extension": ".py",
   "mimetype": "text/x-python",
   "name": "python",
   "nbconvert_exporter": "python",
   "pygments_lexer": "ipython3",
   "version": "3.6.9"
  }
 },
 "nbformat": 4,
 "nbformat_minor": 2
}
